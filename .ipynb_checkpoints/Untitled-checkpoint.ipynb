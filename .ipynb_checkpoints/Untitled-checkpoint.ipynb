{
 "cells": [
  {
   "cell_type": "markdown",
   "metadata": {},
   "source": [
    "# Experiments for Convergence in Network Zero Sum Games\n",
    "\n",
    "This is the code for running the experiments of \"Exponential Convergence of Gradient Methods in Network Zero Sum Games\". This project contains two files - 3p.py, and players.py. \n",
    "\n",
    "## Dependencies\n",
    "* numpy\n",
    "* matplotlib\n",
    "\n",
    "## Running Experiments\n",
    "\n",
    "### 3 Player Games\n",
    "\n",
    "To run the 3 player experiment, simply run\n",
    "                python 3p.py\n",
    "The hyperparameters are lines 9-11. The dynamics are lines 14-15. Both of these can be manually changed.\n",
    "\n",
    "### Players Experiment\n",
    "\n",
    "To run the players experiment, simply run\n",
    "                python players.py\n",
    "Hyperparameters are lines 9-14, and can be changed manually."
   ]
  }
 ],
 "metadata": {
  "kernelspec": {
   "display_name": "Python 3",
   "language": "python",
   "name": "python3"
  },
  "language_info": {
   "codemirror_mode": {
    "name": "ipython",
    "version": 3
   },
   "file_extension": ".py",
   "mimetype": "text/x-python",
   "name": "python",
   "nbconvert_exporter": "python",
   "pygments_lexer": "ipython3",
   "version": "3.7.3"
  }
 },
 "nbformat": 4,
 "nbformat_minor": 4
}
